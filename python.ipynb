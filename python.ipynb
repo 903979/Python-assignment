{
  "nbformat": 4,
  "nbformat_minor": 0,
  "metadata": {
    "colab": {
      "provenance": []
    },
    "kernelspec": {
      "name": "python3",
      "display_name": "Python 3"
    },
    "language_info": {
      "name": "python"
    }
  },
  "cells": [
    {
      "cell_type": "markdown",
      "source": [
        "## Explain the key features of Python that make it a popular choice for programming ?"
      ],
      "metadata": {
        "id": "L63PLZbF8vdW"
      }
    },
    {
      "cell_type": "markdown",
      "source": [
        "Python's popularity stems from its:\n",
        "\n",
        "Readability: Simple, English-like syntax.\n",
        "Versatility: Wide range of applications (web dev, data science, AI).\n",
        "Large Standard Library: Extensive built-in modules.\n",
        "Active Community: Abundant resources and support.\n",
        "Platform Independence: Runs on various operating systems."
      ],
      "metadata": {
        "id": "A9d-shD07whj"
      }
    },
    {
      "cell_type": "markdown",
      "source": [
        "2. Describe the role of predefined keywords in Python and provide examples of how they are used in a\n",
        "program ?"
      ],
      "metadata": {
        "id": "gisX4YID794p"
      }
    },
    {
      "cell_type": "markdown",
      "source": [
        "In Python, predefined keywords are reserved words that have specific meanings and purposes within the language's syntax. They are fundamental building blocks that control program flow, define structures, and perform operations.\n",
        "\n",
        "Control Flow: Keywords like if, else, elif, for, and while manage the execution order of code based on conditions or iterations.\n",
        "Data and Logic: Keywords such as True, False, None, and, or, and not represent boolean values and logical operations.\n",
        "Function and Class Definitions: Keywords like def and class are used to create functions and classes, respectively.\n",
        "Exception Handling: Keywords such as try, except, finally, and raise handle errors and exceptions.\n",
        "Module Importing: The keyword import is used to bring in external modules."
      ],
      "metadata": {
        "id": "rzsycJHn8Xbx"
      }
    },
    {
      "cell_type": "markdown",
      "source": [],
      "metadata": {
        "id": "I5_Pha6E8ly1"
      }
    },
    {
      "cell_type": "markdown",
      "source": [
        "3. Compare and contrast mutable and immutable objects in Python with examples"
      ],
      "metadata": {
        "id": "iZO8_bXb8zBH"
      }
    },
    {
      "cell_type": "markdown",
      "source": [
        "In Python, the distinction between mutable and immutable objects is crucial for understanding how data is handled\n",
        "\n",
        "Mutable Objects:\n",
        "\n",
        "Definition:\n",
        "Mutable objects are those whose values can be changed after they are created. This means you can modify their internal state without creating a new object.\n",
        "Examples:\n",
        "Lists (list)\n",
        "Dictionaries (dict)\n",
        "Sets (set)\n",
        "Behavior:\n",
        "When you modify a mutable object, you are changing the object itself, not creating a new one.\n",
        "If multiple variables refer to the same mutable object, changes made through one variable will be reflected in the others.\n",
        "Immutable Objects:\n",
        "\n",
        "Definition:\n",
        "Immutable objects are those whose values cannot be changed after they are created. Any attempt to modify an immutable object results in the creation of a new object.\n",
        "Examples:\n",
        "Integers (int)\n",
        "Floats (float)\n",
        "Booleans (bool)\n",
        "Strings (str)\n",
        "Tuples (tuple"
      ],
      "metadata": {
        "id": "RILjwRQb9GRx"
      }
    },
    {
      "cell_type": "markdown",
      "source": [
        "4.Discuss the different types of operators in Python and provide examples of how they are used"
      ],
      "metadata": {
        "id": "jGq_Cf_Y9N8o"
      }
    },
    {
      "cell_type": "markdown",
      "source": [
        "Python offers a variety of operators to perform different kinds of operations. Here's a breakdown of the main types:\n",
        "\n",
        "1. Arithmetic Operators:\n",
        "\n",
        "These are used for basic mathematical operations.\n",
        "+ (Addition): Adds two operands. Example: 5 + 3 results in 8.\n",
        "- (Subtraction): Subtracts the second operand from the first. Example: 10 - 4 results in 6.\n",
        "* (Multiplication): Multiplies two operands. Example: 6 * 7 results in 42.\n",
        "/ (Division): Divides the first operand by the second. Example: 15 / 3 results in 5.0.\n",
        "% (Modulus): Returns the remainder of the division. Example: 16 % 5 results in 1.\n",
        "** (Exponentiation): Raises the first operand to the power of the second. Example: 2 ** 3 results in 8.\n",
        "// (Floor Division): Divides and returns the integer part of the quotient. Example: 17 // 5 results in 3.\n",
        "2. Comparison Operators:\n",
        "\n",
        "These compare two operands and return a Boolean value (True or False).\n",
        "== (Equal to): Checks if two operands are equal. Example: 5 == 5 results in True.\n",
        "!= (Not equal to): Checks if two operands are not equal. Example: 5 != 6 results in True.\n",
        "> (Greater than): Checks if the left operand is greater than the right. Example: 8 > 3 results in True.\n",
        "< (Less than): Checks if the left operand is less than the right. Example: 2 < 7 results in True.\n",
        ">= (Greater than or equal to): Checks if the left operand is greater than or equal to the right. Example: 5 >= 5 results in True.\n",
        "<= (Less than or equal to): Checks if the left operand is less than or equal to the right. Example: 4 <= 5 results in True.\n",
        "3. Assignment Operators:\n",
        "\n",
        "These assign values to variables.\n",
        "= (Assignment): Assigns the value of the right operand to the left operand. Example: x = 10.\n",
        "+= (Add and assign): Adds the right operand to the left operand and assigns the result to the left operand. Example: x += 5 is equivalent to x = x + 5.\n",
        "-= (Subtract and assign), *=, /=, %=, //=, **= : These function similarly to +=, but with the other respective arithmatic operators.\n",
        "4. Logical Operators:\n",
        "\n",
        "These combine conditional statements.\n",
        "and: Returns True if both operands are True. Example: True and False results in False.\n",
        "or: Returns True if at least one operand is True. Example: True or False results in True.\n",
        "not: Reverses the Boolean value of the operand. Example: not True results in False."
      ],
      "metadata": {
        "id": "rKRztYZH9pMK"
      }
    },
    {
      "cell_type": "markdown",
      "source": [
        "5. Explain the concept of type casting in Python with examples"
      ],
      "metadata": {
        "id": "D-xX3uNU9wD-"
      }
    },
    {
      "cell_type": "markdown",
      "source": [
        "In Python, \"type casting\" (or \"type conversion\") refers to the process of changing a variable from one data type to another. This is crucial because sometimes you need to perform operations that require specific data types. Python offers both implicit and explicit type casting.\n",
        "\n",
        "1. Implicit Type Casting (Automatic Conversion):\n",
        "\n",
        "Python automatically performs implicit type casting in certain situations, primarily during arithmetic operations.\n",
        "For example, when you add an integer and a float, Python automatically converts the integer to a float to ensure the operation is performed correctly\n",
        "\n",
        "2. Explicit Type Casting (Manual Conversion):\n",
        "\n",
        "Explicit type casting is when you manually convert a data type using built-in Python functions.\n",
        "Common functions include:\n",
        "int(): Converts to an integer.\n",
        "float(): Converts to a floating-point number.\n",
        "str(): Converts to a string."
      ],
      "metadata": {
        "id": "FVrqOnyW-BqB"
      }
    },
    {
      "cell_type": "markdown",
      "source": [
        "6. How do conditional statements work in Python? Illustrate with examples?"
      ],
      "metadata": {
        "id": "c5WhGxTk_kA0"
      }
    },
    {
      "cell_type": "markdown",
      "source": [
        "Conditional statements in Python allow you to execute different blocks of code based on whether certain conditions are true or false. The primary conditional statements are if, elif (else if), and else. Here's a breakdown with examples\n",
        "\n",
        "example:-\n",
        "x = 10\n",
        "if x > 5:\n",
        "    print(\"x is greater than 5\")"
      ],
      "metadata": {
        "id": "2wl0Eqem_0wI"
      }
    },
    {
      "cell_type": "markdown",
      "source": [
        "7. Describe the different types of loops in Python and their use cases with examples"
      ],
      "metadata": {
        "id": "vSNIjDvjADSJ"
      }
    },
    {
      "cell_type": "markdown",
      "source": [
        "Python offers two primary types of loops: for loops and while loops. Each serves different purposes and has distinct use cases.\n",
        "\n",
        "1. for Loop:\n",
        "\n",
        "Purpose: The for loop iterates over a sequence (like a list, tuple, string, or range) or other iterable objects.\n",
        "\n",
        "Use Cases:\n",
        "Iterating through elements of a collection.\n",
        "Performing an action a specific number of times.\n",
        "Processing items in a data structure.\n",
        "\n",
        "example:-"
      ],
      "metadata": {
        "id": "969G8iNNAN27"
      }
    },
    {
      "cell_type": "code",
      "source": [
        "#Iterating through a list:\n",
        "fruits = [\"apple\", \"banana\", \"cherry\"]\n",
        "for fruit in fruits:\n",
        "    print(fruit)"
      ],
      "metadata": {
        "colab": {
          "base_uri": "https://localhost:8080/"
        },
        "id": "vm_RexTsAUe3",
        "outputId": "42aa7be2-4b7e-4d07-fbca-226984e45817"
      },
      "execution_count": 1,
      "outputs": [
        {
          "output_type": "stream",
          "name": "stdout",
          "text": [
            "apple\n",
            "banana\n",
            "cherry\n"
          ]
        }
      ]
    }
  ]
}